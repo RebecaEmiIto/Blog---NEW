{
  "nbformat": 4,
  "nbformat_minor": 0,
  "metadata": {
    "colab": {
      "name": "Atividade-aula-25-02-2021.ipynb",
      "provenance": [],
      "authorship_tag": "ABX9TyNvk/Z7DEPpdUHK3lmhVdx0",
      "include_colab_link": true
    },
    "kernelspec": {
      "name": "python3",
      "display_name": "Python 3"
    }
  },
  "cells": [
    {
      "cell_type": "markdown",
      "metadata": {
        "id": "view-in-github",
        "colab_type": "text"
      },
      "source": [
        "<a href=\"https://colab.research.google.com/github/RebecaEmiIto/Blog---NEW/blob/master/Atividade_aula_25_02_2021.ipynb\" target=\"_parent\"><img src=\"https://colab.research.google.com/assets/colab-badge.svg\" alt=\"Open In Colab\"/></a>"
      ]
    },
    {
      "cell_type": "markdown",
      "metadata": {
        "id": "psejazwNS-T3"
      },
      "source": [
        "#Desafio"
      ]
    },
    {
      "cell_type": "code",
      "metadata": {
        "id": "zckrTfabRGnL"
      },
      "source": [
        ""
      ],
      "execution_count": null,
      "outputs": []
    }
  ]
}